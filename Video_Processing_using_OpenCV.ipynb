{
  "nbformat": 4,
  "nbformat_minor": 0,
  "metadata": {
    "colab": {
      "provenance": [],
      "authorship_tag": "ABX9TyOMER94rl9jOStN2Mg3bvMh",
      "include_colab_link": true
    },
    "kernelspec": {
      "name": "python3",
      "display_name": "Python 3"
    },
    "language_info": {
      "name": "python"
    }
  },
  "cells": [
    {
      "cell_type": "markdown",
      "metadata": {
        "id": "view-in-github",
        "colab_type": "text"
      },
      "source": [
        "<a href=\"https://colab.research.google.com/github/yg36/Video-Processing-using-openCV/blob/main/Video_Processing_using_OpenCV.ipynb\" target=\"_parent\"><img src=\"https://colab.research.google.com/assets/colab-badge.svg\" alt=\"Open In Colab\"/></a>"
      ]
    },
    {
      "cell_type": "code",
      "execution_count": null,
      "metadata": {
        "id": "sUFBphhZ8TUv"
      },
      "outputs": [],
      "source": [
        "# convert video to grayscale\n",
        "import cv2\n",
        "\n",
        "# Path to the input video file\n",
        "input_video_path = 'input_video.mp4'\n",
        "# Path to the output video file\n",
        "output_video_path = 'output_video_grayscale.mp4'\n",
        "\n",
        "# Capture the video from the file\n",
        "cap = cv2.VideoCapture(input_video_path)\n",
        "\n",
        "# Get the video frame width, height, and frames per second (fps)\n",
        "frame_width = int(cap.get(cv2.CAP_PROP_FRAME_WIDTH))\n",
        "frame_height = int(cap.get(cv2.CAP_PROP_FRAME_HEIGHT))\n",
        "fps = cap.get(cv2.CAP_PROP_FPS)\n",
        "\n",
        "# Define the codec and create VideoWriter object\n",
        "fourcc = cv2.VideoWriter_fourcc(*'mp4v')  # You can use 'XVID' or 'MJPG' as well\n",
        "out = cv2.VideoWriter(output_video_path, fourcc, fps, (frame_width, frame_height), False)\n",
        "\n",
        "while True:\n",
        "    ret, frame = cap.read()\n",
        "    if not ret:\n",
        "        break\n",
        "\n",
        "    # Convert the frame to grayscale\n",
        "    gray_frame = cv2.cvtColor(frame, cv2.COLOR_BGR2GRAY)\n",
        "\n",
        "    # Write the frame to the output video file\n",
        "    out.write(gray_frame)\n",
        "\n",
        "# Release everything if the job is finished\n",
        "cap.release()\n",
        "out.release()\n",
        "cv2.destroyAllWindows()\n"
      ]
    },
    {
      "cell_type": "code",
      "source": [
        "# Resize the Colored Video to 50% (smaller)\" using OpenCV\n",
        "import cv2\n",
        "\n",
        "# Path to the input video file\n",
        "input_video_path = 'input_video.mp4'\n",
        "# Path to the output video file\n",
        "output_video_path = 'output_video_resized.mp4'\n",
        "\n",
        "# Capture the video from the file\n",
        "cap = cv2.VideoCapture(input_video_path)\n",
        "\n",
        "# Get the video frame width, height, and frames per second (fps)\n",
        "frame_width = int(cap.get(cv2.CAP_PROP_FRAME_WIDTH))\n",
        "frame_height = int(cap.get(cv2.CAP_PROP_FRAME_HEIGHT))\n",
        "fps = cap.get(cv2.CAP_PROP_FPS)\n",
        "\n",
        "# Calculate new dimensions (50% of original size)\n",
        "new_width = frame_width // 2\n",
        "new_height = frame_height // 2\n",
        "\n",
        "# Define the codec and create VideoWriter object\n",
        "fourcc = cv2.VideoWriter_fourcc(*'mp4v')  # You can use 'XVID' or 'MJPG' as well\n",
        "out = cv2.VideoWriter(output_video_path, fourcc, fps, (new_width, new_height))\n",
        "\n",
        "while True:\n",
        "    ret, frame = cap.read()\n",
        "    if not ret:\n",
        "        break\n",
        "\n",
        "    # Resize the frame to 50% of its original size\n",
        "    resized_frame = cv2.resize(frame, (new_width, new_height))\n",
        "\n",
        "    # Write the resized frame to the output video file\n",
        "    out.write(resized_frame)\n",
        "\n",
        "# Release everything if the job is finished\n",
        "cap.release()\n",
        "out.release()\n",
        "cv2.destroyAllWindows()\n"
      ],
      "metadata": {
        "colab": {
          "base_uri": "https://localhost:8080/"
        },
        "id": "Uuurb7DL8_Cd",
        "outputId": "df8e3d12-dd66-4b91-a5e2-eeb08cef1d20"
      },
      "execution_count": null,
      "outputs": [
        {
          "output_type": "stream",
          "name": "stdout",
          "text": [
            "Failed to grab frame. Check camera connection and permissions.\n"
          ]
        }
      ]
    },
    {
      "cell_type": "code",
      "source": [],
      "metadata": {
        "id": "nhkNYxGe9fQc"
      },
      "execution_count": null,
      "outputs": []
    }
  ]
}